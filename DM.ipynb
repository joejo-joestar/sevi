{
  "nbformat": 4,
  "nbformat_minor": 0,
  "metadata": {
    "colab": {
      "provenance": [],
      "gpuType": "T4",
      "mount_file_id": "1fQFl9giISdddZLkhCn0FcSa4lGI0fxlK",
      "authorship_tag": "ABX9TyME/8kxATMDH37Oj1vv29NK",
      "include_colab_link": true
    },
    "kernelspec": {
      "name": "python3",
      "display_name": "Python 3"
    },
    "language_info": {
      "name": "python"
    },
    "accelerator": "GPU"
  },
  "cells": [
    {
      "cell_type": "markdown",
      "metadata": {
        "id": "view-in-github",
        "colab_type": "text"
      },
      "source": [
        "<a href=\"https://colab.research.google.com/github/vennby/BioLib/blob/main/DM.ipynb\" target=\"_parent\"><img src=\"https://colab.research.google.com/assets/colab-badge.svg\" alt=\"Open In Colab\"/></a>"
      ]
    },
    {
      "cell_type": "markdown",
      "source": [
        "## **Step 1: Partitioning the Main Dataset**\n",
        "The main dataset, **\"COVID-19 Vaccinations in the United States, County\"**, has many features. We will first separate and arrange it into the format that we require to train the separate models.\n",
        "\n",
        "The first partition we've performed separates the dataset on the basis of the years (2021, 2022, 2023), and includes only the following attributes:\n",
        "\n",
        "\n",
        "*   Recip_County\n",
        "*   Recip_State\n",
        "*   Administered_Dose1_Recip\n",
        "*   Series_Complete_Yes\n",
        "*   SVI_CTGY\n",
        "\n"
      ],
      "metadata": {
        "id": "5HrHfWa-5Yr8"
      }
    },
    {
      "cell_type": "code",
      "source": [
        "import pandas as pd\n",
        "from google.colab import files\n",
        "\n",
        "# File path (already loaded)\n",
        "file = '/content/drive/MyDrive/1. Semesters/Semester 6/DM/Project/DMDataset_TeamID_06.csv'\n",
        "\n",
        "# Step 1: Read the CSV file\n",
        "df = pd.read_csv(file)\n",
        "\n",
        "# Step 2: Convert 'Date' column to datetime\n",
        "df['Date'] = pd.to_datetime(df['Date'], errors='coerce')\n",
        "\n",
        "# Step 3: Filter necessary columns\n",
        "columns_needed = ['Date', 'Recip_County', 'Recip_State', 'Administered_Dose1_Recip',\n",
        "                  'Series_Complete_Yes', 'SVI_CTGY']\n",
        "df = df[columns_needed]\n",
        "\n",
        "# Step 4: Map the SVI categories to numeric rankings\n",
        "svi_mapping = {'A': 3, 'B': 2, 'C': 1, 'D': 0}\n",
        "df['SVI_Rank'] = df['SVI_CTGY'].map(svi_mapping)\n",
        "\n",
        "# Step 5: Filter by year and save to CSV files\n",
        "for year in [2021, 2022, 2023]:\n",
        "    df_year = df[df['Date'].dt.year == year]\n",
        "    output_filename = f\"vaccination_data_{year}.csv\"\n",
        "    df_year.to_csv(output_filename, index=False)\n",
        "    files.download(output_filename)\n",
        "\n",
        "# Step 6: Analyze SVI_CTGY bins\n",
        "print(\"\\nSVI Category Analysis:\")\n",
        "svi_summary = {}\n",
        "\n",
        "for category in df['SVI_CTGY'].dropna().unique():\n",
        "    cat_data = df[df['SVI_CTGY'] == category]['Series_Complete_Yes']\n",
        "    if not cat_data.empty:\n",
        "        svi_summary[category] = {\n",
        "            'min': cat_data.min(),\n",
        "            'max': cat_data.max(),\n",
        "            'mean': cat_data.mean(),\n",
        "            'count': len(cat_data)\n",
        "        }\n",
        "\n",
        "# Step 7: Save SVI bin summary\n",
        "svi_df = pd.DataFrame.from_dict(svi_summary, orient='index')\n",
        "svi_df.index.name = 'SVI_CTGY'\n",
        "print(svi_df)\n",
        "\n",
        "svi_summary_file = \"SVI_CTGY_summary.csv\"\n",
        "svi_df.to_csv(svi_summary_file)\n",
        "files.download(svi_summary_file)"
      ],
      "metadata": {
        "colab": {
          "base_uri": "https://localhost:8080/",
          "height": 315
        },
        "id": "UJ66fYCA23Bo",
        "outputId": "d3e96c85-e5a4-4b93-93cc-5e42fff6bc17"
      },
      "execution_count": 1,
      "outputs": [
        {
          "output_type": "stream",
          "name": "stderr",
          "text": [
            "<ipython-input-1-5363e1c4440d>:8: DtypeWarning: Columns (1) have mixed types. Specify dtype option on import or set low_memory=False.\n",
            "  df = pd.read_csv(file)\n",
            "<ipython-input-1-5363e1c4440d>:20: SettingWithCopyWarning: \n",
            "A value is trying to be set on a copy of a slice from a DataFrame.\n",
            "Try using .loc[row_indexer,col_indexer] = value instead\n",
            "\n",
            "See the caveats in the documentation: https://pandas.pydata.org/pandas-docs/stable/user_guide/indexing.html#returning-a-view-versus-a-copy\n",
            "  df['SVI_Rank'] = df['SVI_CTGY'].map(svi_mapping)\n"
          ]
        },
        {
          "output_type": "display_data",
          "data": {
            "text/plain": [
              "<IPython.core.display.Javascript object>"
            ],
            "application/javascript": [
              "\n",
              "    async function download(id, filename, size) {\n",
              "      if (!google.colab.kernel.accessAllowed) {\n",
              "        return;\n",
              "      }\n",
              "      const div = document.createElement('div');\n",
              "      const label = document.createElement('label');\n",
              "      label.textContent = `Downloading \"${filename}\": `;\n",
              "      div.appendChild(label);\n",
              "      const progress = document.createElement('progress');\n",
              "      progress.max = size;\n",
              "      div.appendChild(progress);\n",
              "      document.body.appendChild(div);\n",
              "\n",
              "      const buffers = [];\n",
              "      let downloaded = 0;\n",
              "\n",
              "      const channel = await google.colab.kernel.comms.open(id);\n",
              "      // Send a message to notify the kernel that we're ready.\n",
              "      channel.send({})\n",
              "\n",
              "      for await (const message of channel.messages) {\n",
              "        // Send a message to notify the kernel that we're ready.\n",
              "        channel.send({})\n",
              "        if (message.buffers) {\n",
              "          for (const buffer of message.buffers) {\n",
              "            buffers.push(buffer);\n",
              "            downloaded += buffer.byteLength;\n",
              "            progress.value = downloaded;\n",
              "          }\n",
              "        }\n",
              "      }\n",
              "      const blob = new Blob(buffers, {type: 'application/binary'});\n",
              "      const a = document.createElement('a');\n",
              "      a.href = window.URL.createObjectURL(blob);\n",
              "      a.download = filename;\n",
              "      div.appendChild(a);\n",
              "      a.click();\n",
              "      div.remove();\n",
              "    }\n",
              "  "
            ]
          },
          "metadata": {}
        },
        {
          "output_type": "display_data",
          "data": {
            "text/plain": [
              "<IPython.core.display.Javascript object>"
            ],
            "application/javascript": [
              "download(\"download_da4ba27f-6b98-483d-a467-fa97e1126190\", \"vaccination_data_2021.csv\", 58495536)"
            ]
          },
          "metadata": {}
        },
        {
          "output_type": "display_data",
          "data": {
            "text/plain": [
              "<IPython.core.display.Javascript object>"
            ],
            "application/javascript": [
              "\n",
              "    async function download(id, filename, size) {\n",
              "      if (!google.colab.kernel.accessAllowed) {\n",
              "        return;\n",
              "      }\n",
              "      const div = document.createElement('div');\n",
              "      const label = document.createElement('label');\n",
              "      label.textContent = `Downloading \"${filename}\": `;\n",
              "      div.appendChild(label);\n",
              "      const progress = document.createElement('progress');\n",
              "      progress.max = size;\n",
              "      div.appendChild(progress);\n",
              "      document.body.appendChild(div);\n",
              "\n",
              "      const buffers = [];\n",
              "      let downloaded = 0;\n",
              "\n",
              "      const channel = await google.colab.kernel.comms.open(id);\n",
              "      // Send a message to notify the kernel that we're ready.\n",
              "      channel.send({})\n",
              "\n",
              "      for await (const message of channel.messages) {\n",
              "        // Send a message to notify the kernel that we're ready.\n",
              "        channel.send({})\n",
              "        if (message.buffers) {\n",
              "          for (const buffer of message.buffers) {\n",
              "            buffers.push(buffer);\n",
              "            downloaded += buffer.byteLength;\n",
              "            progress.value = downloaded;\n",
              "          }\n",
              "        }\n",
              "      }\n",
              "      const blob = new Blob(buffers, {type: 'application/binary'});\n",
              "      const a = document.createElement('a');\n",
              "      a.href = window.URL.createObjectURL(blob);\n",
              "      a.download = filename;\n",
              "      div.appendChild(a);\n",
              "      a.click();\n",
              "      div.remove();\n",
              "    }\n",
              "  "
            ]
          },
          "metadata": {}
        },
        {
          "output_type": "display_data",
          "data": {
            "text/plain": [
              "<IPython.core.display.Javascript object>"
            ],
            "application/javascript": [
              "download(\"download_fcacc7fc-5426-465c-9824-5260cd744da0\", \"vaccination_data_2022.csv\", 32177097)"
            ]
          },
          "metadata": {}
        },
        {
          "output_type": "display_data",
          "data": {
            "text/plain": [
              "<IPython.core.display.Javascript object>"
            ],
            "application/javascript": [
              "\n",
              "    async function download(id, filename, size) {\n",
              "      if (!google.colab.kernel.accessAllowed) {\n",
              "        return;\n",
              "      }\n",
              "      const div = document.createElement('div');\n",
              "      const label = document.createElement('label');\n",
              "      label.textContent = `Downloading \"${filename}\": `;\n",
              "      div.appendChild(label);\n",
              "      const progress = document.createElement('progress');\n",
              "      progress.max = size;\n",
              "      div.appendChild(progress);\n",
              "      document.body.appendChild(div);\n",
              "\n",
              "      const buffers = [];\n",
              "      let downloaded = 0;\n",
              "\n",
              "      const channel = await google.colab.kernel.comms.open(id);\n",
              "      // Send a message to notify the kernel that we're ready.\n",
              "      channel.send({})\n",
              "\n",
              "      for await (const message of channel.messages) {\n",
              "        // Send a message to notify the kernel that we're ready.\n",
              "        channel.send({})\n",
              "        if (message.buffers) {\n",
              "          for (const buffer of message.buffers) {\n",
              "            buffers.push(buffer);\n",
              "            downloaded += buffer.byteLength;\n",
              "            progress.value = downloaded;\n",
              "          }\n",
              "        }\n",
              "      }\n",
              "      const blob = new Blob(buffers, {type: 'application/binary'});\n",
              "      const a = document.createElement('a');\n",
              "      a.href = window.URL.createObjectURL(blob);\n",
              "      a.download = filename;\n",
              "      div.appendChild(a);\n",
              "      a.click();\n",
              "      div.remove();\n",
              "    }\n",
              "  "
            ]
          },
          "metadata": {}
        },
        {
          "output_type": "display_data",
          "data": {
            "text/plain": [
              "<IPython.core.display.Javascript object>"
            ],
            "application/javascript": [
              "download(\"download_7429b358-dcdb-41d9-ae43-1b006cd9e957\", \"vaccination_data_2023.csv\", 3137016)"
            ]
          },
          "metadata": {}
        },
        {
          "output_type": "stream",
          "name": "stdout",
          "text": [
            "\n",
            "SVI Category Analysis:\n",
            "          min        max          mean   count\n",
            "SVI_CTGY                                      \n",
            "A         0.0  1366218.0  33545.943286  481967\n",
            "B         0.0  2358821.0  48763.812910  480813\n",
            "C         0.0  3862965.0  54490.212218  480792\n",
            "D         0.0  7536300.0  38582.488313  481411\n"
          ]
        },
        {
          "output_type": "display_data",
          "data": {
            "text/plain": [
              "<IPython.core.display.Javascript object>"
            ],
            "application/javascript": [
              "\n",
              "    async function download(id, filename, size) {\n",
              "      if (!google.colab.kernel.accessAllowed) {\n",
              "        return;\n",
              "      }\n",
              "      const div = document.createElement('div');\n",
              "      const label = document.createElement('label');\n",
              "      label.textContent = `Downloading \"${filename}\": `;\n",
              "      div.appendChild(label);\n",
              "      const progress = document.createElement('progress');\n",
              "      progress.max = size;\n",
              "      div.appendChild(progress);\n",
              "      document.body.appendChild(div);\n",
              "\n",
              "      const buffers = [];\n",
              "      let downloaded = 0;\n",
              "\n",
              "      const channel = await google.colab.kernel.comms.open(id);\n",
              "      // Send a message to notify the kernel that we're ready.\n",
              "      channel.send({})\n",
              "\n",
              "      for await (const message of channel.messages) {\n",
              "        // Send a message to notify the kernel that we're ready.\n",
              "        channel.send({})\n",
              "        if (message.buffers) {\n",
              "          for (const buffer of message.buffers) {\n",
              "            buffers.push(buffer);\n",
              "            downloaded += buffer.byteLength;\n",
              "            progress.value = downloaded;\n",
              "          }\n",
              "        }\n",
              "      }\n",
              "      const blob = new Blob(buffers, {type: 'application/binary'});\n",
              "      const a = document.createElement('a');\n",
              "      a.href = window.URL.createObjectURL(blob);\n",
              "      a.download = filename;\n",
              "      div.appendChild(a);\n",
              "      a.click();\n",
              "      div.remove();\n",
              "    }\n",
              "  "
            ]
          },
          "metadata": {}
        },
        {
          "output_type": "display_data",
          "data": {
            "text/plain": [
              "<IPython.core.display.Javascript object>"
            ],
            "application/javascript": [
              "download(\"download_7d377e03-2830-4b78-bd94-456d0b8cd132\", \"SVI_CTGY_summary.csv\", 192)"
            ]
          },
          "metadata": {}
        }
      ]
    },
    {
      "cell_type": "code",
      "source": [
        "import pandas as pd\n",
        "from google.colab import files\n",
        "\n",
        "# File path (already loaded)\n",
        "file = '/content/drive/MyDrive/1. Semesters/Semester 6/DM/Project/DMDataset_TeamID_06.csv'\n",
        "\n",
        "# Step 1: Read the CSV file\n",
        "df = pd.read_csv(file)\n",
        "\n",
        "# Step 2: Convert 'Date' column to datetime\n",
        "df['Date'] = pd.to_datetime(df['Date'], errors='coerce')\n",
        "\n",
        "# Step 3: Filter necessary columns (now includes 'Metro_status')\n",
        "columns_needed = ['Date', 'Recip_County', 'Recip_State', 'Administered_Dose1_Recip',\n",
        "                  'Series_Complete_Yes', 'SVI_CTGY', 'Metro_status']\n",
        "df = df[columns_needed]\n",
        "\n",
        "# Step 4: Map the SVI categories to numeric rankings\n",
        "svi_mapping = {'A': 3, 'B': 2, 'C': 1, 'D': 0}\n",
        "df['SVI_Rank'] = df['SVI_CTGY'].map(svi_mapping)\n",
        "\n",
        "# Step 5: Filter by year and save to CSV files\n",
        "for year in [2021, 2022, 2023]:\n",
        "    df_year = df[df['Date'].dt.year == year]\n",
        "    output_filename = f\"vaccination_data_{year}.csv\"\n",
        "    df_year.to_csv(output_filename, index=False)\n",
        "    files.download(output_filename)\n",
        "\n",
        "# Step 6: Analyze SVI_CTGY bins (with Metro_status as sub-category)\n",
        "print(\"\\nSVI Category Analysis by Metro_status:\")\n",
        "svi_summary = {}\n",
        "\n",
        "for category in df['SVI_CTGY'].dropna().unique():\n",
        "    for metro in df['Metro_status'].dropna().unique():\n",
        "        subset = df[(df['SVI_CTGY'] == category) & (df['Metro_status'] == metro)]\n",
        "        cat_data = subset['Series_Complete_Yes']\n",
        "        if not cat_data.empty:\n",
        "            svi_summary[(category, metro)] = {\n",
        "                'min': cat_data.min(),\n",
        "                'max': cat_data.max(),\n",
        "                'mean': cat_data.mean(),\n",
        "                'count': len(cat_data)\n",
        "            }\n",
        "\n",
        "# Step 7: Save SVI bin summary with Metro_status\n",
        "svi_df = pd.DataFrame.from_dict(svi_summary, orient='index')\n",
        "svi_df.index = pd.MultiIndex.from_tuples(svi_df.index, names=['SVI_CTGY', 'Metro_status'])\n",
        "print(svi_df)\n",
        "\n",
        "svi_summary_file = \"SVI_CTGY_Metro_summary.csv\"\n",
        "svi_df.to_csv(svi_summary_file)\n",
        "files.download(svi_summary_file)"
      ],
      "metadata": {
        "colab": {
          "base_uri": "https://localhost:8080/",
          "height": 280
        },
        "id": "0MOPOoBYZgTq",
        "outputId": "6b1a721a-b280-4d1d-efed-3ee0d7aec216"
      },
      "execution_count": 2,
      "outputs": [
        {
          "output_type": "stream",
          "name": "stderr",
          "text": [
            "<ipython-input-2-cd925e1dc326>:8: DtypeWarning: Columns (1) have mixed types. Specify dtype option on import or set low_memory=False.\n",
            "  df = pd.read_csv(file)\n"
          ]
        },
        {
          "output_type": "display_data",
          "data": {
            "text/plain": [
              "<IPython.core.display.Javascript object>"
            ],
            "application/javascript": [
              "\n",
              "    async function download(id, filename, size) {\n",
              "      if (!google.colab.kernel.accessAllowed) {\n",
              "        return;\n",
              "      }\n",
              "      const div = document.createElement('div');\n",
              "      const label = document.createElement('label');\n",
              "      label.textContent = `Downloading \"${filename}\": `;\n",
              "      div.appendChild(label);\n",
              "      const progress = document.createElement('progress');\n",
              "      progress.max = size;\n",
              "      div.appendChild(progress);\n",
              "      document.body.appendChild(div);\n",
              "\n",
              "      const buffers = [];\n",
              "      let downloaded = 0;\n",
              "\n",
              "      const channel = await google.colab.kernel.comms.open(id);\n",
              "      // Send a message to notify the kernel that we're ready.\n",
              "      channel.send({})\n",
              "\n",
              "      for await (const message of channel.messages) {\n",
              "        // Send a message to notify the kernel that we're ready.\n",
              "        channel.send({})\n",
              "        if (message.buffers) {\n",
              "          for (const buffer of message.buffers) {\n",
              "            buffers.push(buffer);\n",
              "            downloaded += buffer.byteLength;\n",
              "            progress.value = downloaded;\n",
              "          }\n",
              "        }\n",
              "      }\n",
              "      const blob = new Blob(buffers, {type: 'application/binary'});\n",
              "      const a = document.createElement('a');\n",
              "      a.href = window.URL.createObjectURL(blob);\n",
              "      a.download = filename;\n",
              "      div.appendChild(a);\n",
              "      a.click();\n",
              "      div.remove();\n",
              "    }\n",
              "  "
            ]
          },
          "metadata": {}
        },
        {
          "output_type": "display_data",
          "data": {
            "text/plain": [
              "<IPython.core.display.Javascript object>"
            ],
            "application/javascript": [
              "download(\"download_1c38fb4b-4cc8-46b7-ab40-fee971d8d026\", \"vaccination_data_2021.csv\", 68464865)"
            ]
          },
          "metadata": {}
        },
        {
          "output_type": "display_data",
          "data": {
            "text/plain": [
              "<IPython.core.display.Javascript object>"
            ],
            "application/javascript": [
              "\n",
              "    async function download(id, filename, size) {\n",
              "      if (!google.colab.kernel.accessAllowed) {\n",
              "        return;\n",
              "      }\n",
              "      const div = document.createElement('div');\n",
              "      const label = document.createElement('label');\n",
              "      label.textContent = `Downloading \"${filename}\": `;\n",
              "      div.appendChild(label);\n",
              "      const progress = document.createElement('progress');\n",
              "      progress.max = size;\n",
              "      div.appendChild(progress);\n",
              "      document.body.appendChild(div);\n",
              "\n",
              "      const buffers = [];\n",
              "      let downloaded = 0;\n",
              "\n",
              "      const channel = await google.colab.kernel.comms.open(id);\n",
              "      // Send a message to notify the kernel that we're ready.\n",
              "      channel.send({})\n",
              "\n",
              "      for await (const message of channel.messages) {\n",
              "        // Send a message to notify the kernel that we're ready.\n",
              "        channel.send({})\n",
              "        if (message.buffers) {\n",
              "          for (const buffer of message.buffers) {\n",
              "            buffers.push(buffer);\n",
              "            downloaded += buffer.byteLength;\n",
              "            progress.value = downloaded;\n",
              "          }\n",
              "        }\n",
              "      }\n",
              "      const blob = new Blob(buffers, {type: 'application/binary'});\n",
              "      const a = document.createElement('a');\n",
              "      a.href = window.URL.createObjectURL(blob);\n",
              "      a.download = filename;\n",
              "      div.appendChild(a);\n",
              "      a.click();\n",
              "      div.remove();\n",
              "    }\n",
              "  "
            ]
          },
          "metadata": {}
        },
        {
          "output_type": "display_data",
          "data": {
            "text/plain": [
              "<IPython.core.display.Javascript object>"
            ],
            "application/javascript": [
              "download(\"download_9a0603d2-ba6a-413c-9312-f9c156e55743\", \"vaccination_data_2022.csv\", 37503410)"
            ]
          },
          "metadata": {}
        },
        {
          "output_type": "display_data",
          "data": {
            "text/plain": [
              "<IPython.core.display.Javascript object>"
            ],
            "application/javascript": [
              "\n",
              "    async function download(id, filename, size) {\n",
              "      if (!google.colab.kernel.accessAllowed) {\n",
              "        return;\n",
              "      }\n",
              "      const div = document.createElement('div');\n",
              "      const label = document.createElement('label');\n",
              "      label.textContent = `Downloading \"${filename}\": `;\n",
              "      div.appendChild(label);\n",
              "      const progress = document.createElement('progress');\n",
              "      progress.max = size;\n",
              "      div.appendChild(progress);\n",
              "      document.body.appendChild(div);\n",
              "\n",
              "      const buffers = [];\n",
              "      let downloaded = 0;\n",
              "\n",
              "      const channel = await google.colab.kernel.comms.open(id);\n",
              "      // Send a message to notify the kernel that we're ready.\n",
              "      channel.send({})\n",
              "\n",
              "      for await (const message of channel.messages) {\n",
              "        // Send a message to notify the kernel that we're ready.\n",
              "        channel.send({})\n",
              "        if (message.buffers) {\n",
              "          for (const buffer of message.buffers) {\n",
              "            buffers.push(buffer);\n",
              "            downloaded += buffer.byteLength;\n",
              "            progress.value = downloaded;\n",
              "          }\n",
              "        }\n",
              "      }\n",
              "      const blob = new Blob(buffers, {type: 'application/binary'});\n",
              "      const a = document.createElement('a');\n",
              "      a.href = window.URL.createObjectURL(blob);\n",
              "      a.download = filename;\n",
              "      div.appendChild(a);\n",
              "      a.click();\n",
              "      div.remove();\n",
              "    }\n",
              "  "
            ]
          },
          "metadata": {}
        },
        {
          "output_type": "display_data",
          "data": {
            "text/plain": [
              "<IPython.core.display.Javascript object>"
            ],
            "application/javascript": [
              "download(\"download_7c936f23-0de5-4165-9132-0a160f284f28\", \"vaccination_data_2023.csv\", 3655995)"
            ]
          },
          "metadata": {}
        },
        {
          "output_type": "stream",
          "name": "stdout",
          "text": [
            "\n",
            "SVI Category Analysis by Metro_status:\n",
            "                       min        max           mean   count\n",
            "SVI_CTGY Metro_status                                       \n",
            "A        Non-metro     0.0   141817.0    7016.614697  278517\n",
            "         Metro         0.0  1366218.0   69787.201230  203450\n",
            "B        Non-metro     0.0    92419.0    8473.338810  274820\n",
            "         Metro         0.0  2358821.0  103112.181315  205395\n",
            "C        Non-metro     0.0    78507.0    8608.800437  284196\n",
            "         Metro         0.0  3862965.0  120560.845606  196596\n",
            "D        Non-metro     0.0    95454.0    8107.255157  348322\n",
            "         Metro         0.0  7536300.0  118291.770537  133089\n"
          ]
        },
        {
          "output_type": "display_data",
          "data": {
            "text/plain": [
              "<IPython.core.display.Javascript object>"
            ],
            "application/javascript": [
              "\n",
              "    async function download(id, filename, size) {\n",
              "      if (!google.colab.kernel.accessAllowed) {\n",
              "        return;\n",
              "      }\n",
              "      const div = document.createElement('div');\n",
              "      const label = document.createElement('label');\n",
              "      label.textContent = `Downloading \"${filename}\": `;\n",
              "      div.appendChild(label);\n",
              "      const progress = document.createElement('progress');\n",
              "      progress.max = size;\n",
              "      div.appendChild(progress);\n",
              "      document.body.appendChild(div);\n",
              "\n",
              "      const buffers = [];\n",
              "      let downloaded = 0;\n",
              "\n",
              "      const channel = await google.colab.kernel.comms.open(id);\n",
              "      // Send a message to notify the kernel that we're ready.\n",
              "      channel.send({})\n",
              "\n",
              "      for await (const message of channel.messages) {\n",
              "        // Send a message to notify the kernel that we're ready.\n",
              "        channel.send({})\n",
              "        if (message.buffers) {\n",
              "          for (const buffer of message.buffers) {\n",
              "            buffers.push(buffer);\n",
              "            downloaded += buffer.byteLength;\n",
              "            progress.value = downloaded;\n",
              "          }\n",
              "        }\n",
              "      }\n",
              "      const blob = new Blob(buffers, {type: 'application/binary'});\n",
              "      const a = document.createElement('a');\n",
              "      a.href = window.URL.createObjectURL(blob);\n",
              "      a.download = filename;\n",
              "      div.appendChild(a);\n",
              "      a.click();\n",
              "      div.remove();\n",
              "    }\n",
              "  "
            ]
          },
          "metadata": {}
        },
        {
          "output_type": "display_data",
          "data": {
            "text/plain": [
              "<IPython.core.display.Javascript object>"
            ],
            "application/javascript": [
              "download(\"download_2d3f7b35-dff3-445b-b958-faf54988b7e3\", \"SVI_CTGY_Metro_summary.csv\", 427)"
            ]
          },
          "metadata": {}
        }
      ]
    },
    {
      "cell_type": "markdown",
      "source": [
        "## **Step 2: Training the Base Model**"
      ],
      "metadata": {
        "id": "825T6UljV4Kh"
      }
    },
    {
      "cell_type": "code",
      "source": [
        "# Step 1: Install necessary packages\n",
        "!pip install pandas scikit-learn openpyxl matplotlib seaborn --quiet\n",
        "\n",
        "# Step 2: Imports\n",
        "import pandas as pd\n",
        "import numpy as np\n",
        "from sklearn.ensemble import RandomForestClassifier\n",
        "from sklearn.model_selection import train_test_split\n",
        "from sklearn.preprocessing import StandardScaler\n",
        "from sklearn.metrics import classification_report, confusion_matrix\n",
        "import matplotlib.pyplot as plt\n",
        "import seaborn as sns\n",
        "\n",
        "# Step 3: File paths\n",
        "racial_file = 'CountyRacialData.xlsx'\n",
        "years = ['2021', '2022', '2023']\n",
        "vacc_files = {year: f'vaccination_data_{year}.csv' for year in years}\n",
        "\n",
        "# Step 4: Load racial data (with total and major races)\n",
        "racial_data = []\n",
        "expected_cols = ['State', 'County', 'Population', 'White', 'Black', 'Hispanic', 'Asian',\n",
        "                 'Multiple_Races', 'AIAN', 'NHPI']\n",
        "\n",
        "for year in years:\n",
        "    df = pd.read_excel(racial_file, sheet_name=year)\n",
        "    if df.shape[1] == 9:\n",
        "        df.columns = expected_cols[:-1]  # Missing NHPI\n",
        "        df['NHPI'] = 0\n",
        "    elif df.shape[1] == 10:\n",
        "        df.columns = expected_cols\n",
        "    else:\n",
        "        raise ValueError(f\"Unexpected number of columns in sheet {year}\")\n",
        "    df['Year'] = int(year)\n",
        "    racial_data.append(df)\n",
        "\n",
        "racial_all = pd.concat(racial_data, ignore_index=True)\n",
        "\n",
        "# Step 5: Load SVI data\n",
        "svi_data = []\n",
        "for year in years:\n",
        "    df = pd.read_csv(vacc_files[year])\n",
        "    df = df[['Recip_State', 'Recip_County', 'SVI_CTGY']]\n",
        "    df.columns = ['State', 'County', 'SVI_CTGY']\n",
        "    df['Year'] = int(year)\n",
        "    svi_data.append(df)\n",
        "\n",
        "svi_all = pd.concat(svi_data, ignore_index=True)\n",
        "\n",
        "# Step 6: Normalize state and county names\n",
        "def normalize_names(df):\n",
        "    df['State'] = df['State'].astype(str).str.strip().str.upper()\n",
        "    df['County'] = df['County'].astype(str).str.strip().str.upper().str.replace(' COUNTY', '', regex=False)\n",
        "    return df\n",
        "\n",
        "racial_all = normalize_names(racial_all)\n",
        "svi_all = normalize_names(svi_all)\n",
        "\n",
        "# Step 7: Merge datasets\n",
        "merged_df = pd.merge(racial_all, svi_all, how='inner', on=['State', 'County', 'Year'])\n",
        "\n",
        "# Step 8: Fill missing values\n",
        "merged_df[['Population', 'White', 'Black', 'Hispanic', 'Asian']] = merged_df[[\n",
        "    'Population', 'White', 'Black', 'Hispanic', 'Asian']].fillna(0)\n",
        "\n",
        "# Step 9: Add proportion features\n",
        "for race in ['White', 'Black', 'Hispanic', 'Asian']:\n",
        "    merged_df[f'{race}_pct'] = merged_df[race] / merged_df['Population'].replace(0, 1)\n",
        "\n",
        "# Step 10: Correct SVI label mapping\n",
        "merged_df['SVI_Rank'] = merged_df['SVI_CTGY'].map({'A': 3, 'B': 2, 'C': 1, 'D': 0})\n",
        "merged_df = merged_df.dropna(subset=['SVI_Rank'])\n",
        "\n",
        "# Step 11: Feature matrix and labels\n",
        "features = ['Population', 'White_pct', 'Black_pct', 'Hispanic_pct', 'Asian_pct']\n",
        "X = merged_df[features]\n",
        "y = merged_df['SVI_Rank']\n",
        "\n",
        "# Step 12: Scale the features\n",
        "scaler = StandardScaler()\n",
        "X_scaled = scaler.fit_transform(X)\n",
        "\n",
        "# Step 13: Split the data\n",
        "X_train, X_test, y_train, y_test = train_test_split(X_scaled, y, test_size=0.2, random_state=42)\n",
        "\n",
        "# Step 14: Train the model\n",
        "model = RandomForestClassifier(n_estimators=100, class_weight='balanced', random_state=42)\n",
        "model.fit(X_train, y_train)\n",
        "\n",
        "# Step 15: Evaluate the model\n",
        "y_pred = model.predict(X_test)\n",
        "print(\"Classification Report:\\n\", classification_report(y_test, y_pred))\n",
        "\n",
        "# Plot confusion matrix\n",
        "sns.heatmap(confusion_matrix(y_test, y_pred), annot=True, fmt='d', cmap='Blues')\n",
        "plt.title(\"Confusion Matrix\")\n",
        "plt.xlabel(\"Predicted\")\n",
        "plt.ylabel(\"Actual\")\n",
        "plt.show()\n",
        "\n",
        "# Step 17: Inference function (partial input allowed)\n",
        "def predict_svi(input_dict):\n",
        "    input_dict = input_dict.copy()\n",
        "    pop = input_dict.get('Population', 0) or 1  # Avoid division by zero\n",
        "    for race in ['White', 'Black', 'Hispanic', 'Asian']:\n",
        "        input_dict[f'{race}_pct'] = input_dict.get(race, 0) / pop\n",
        "    input_vector = np.array([[input_dict.get(col, 0) for col in features]])\n",
        "    input_scaled = scaler.transform(input_vector)\n",
        "    prediction = model.predict(input_scaled)[0]\n",
        "    return {3: 'A', 2: 'B', 1: 'C', 0: 'D'}[prediction]\n",
        "\n",
        "# Step 18: Example predictions\n",
        "example_high = {'Black': 30000, 'Hispanic': 25000, 'Population': 60000}\n",
        "example_low = {'White': 80000, 'Population': 85000}"
      ],
      "metadata": {
        "colab": {
          "base_uri": "https://localhost:8080/",
          "height": 680
        },
        "id": "Ah4UReS0WQm2",
        "outputId": "74b9c9c7-2354-42f9-e3e3-1109b4d0733c"
      },
      "execution_count": 30,
      "outputs": [
        {
          "output_type": "stream",
          "name": "stdout",
          "text": [
            "Classification Report:\n",
            "               precision    recall  f1-score   support\n",
            "\n",
            "         0.0       1.00      1.00      1.00     89186\n",
            "         1.0       1.00      1.00      1.00     88396\n",
            "         2.0       1.00      1.00      1.00     84627\n",
            "         3.0       1.00      1.00      1.00     84501\n",
            "\n",
            "    accuracy                           1.00    346710\n",
            "   macro avg       1.00      1.00      1.00    346710\n",
            "weighted avg       1.00      1.00      1.00    346710\n",
            "\n"
          ]
        },
        {
          "output_type": "display_data",
          "data": {
            "text/plain": [
              "<Figure size 640x480 with 2 Axes>"
            ],
            "image/png": "[encoded data removed]"
          },
          "metadata": {}
        }
      ]
    },
    {
      "cell_type": "code",
      "source": [
        "example = {'White': 30680, 'Black': 6633, 'Hispanic': 2487, 'Asian': 829, 'Population': 41460}\n",
        "print(\"Predicted SVI Category (high vulnerability):\", predict_svi(example))"
      ],
      "metadata": {
        "colab": {
          "base_uri": "https://localhost:8080/"
        },
        "id": "3eXpr9CcXE7c",
        "outputId": "eff04408-d35a-49c8-858e-a32f0f2be6fa"
      },
      "execution_count": 31,
      "outputs": [
        {
          "output_type": "stream",
          "name": "stdout",
          "text": [
            "Predicted SVI Category (high vulnerability): A\n"
          ]
        },
        {
          "output_type": "stream",
          "name": "stderr",
          "text": [
            "/usr/local/lib/python3.11/dist-packages/sklearn/utils/validation.py:2739: UserWarning: X does not have valid feature names, but StandardScaler was fitted with feature names\n",
            "  warnings.warn(\n"
          ]
        }
      ]
    },
    {
      "cell_type": "code",
      "source": [
        "import pandas as pd\n",
        "import numpy as np\n",
        "import matplotlib.pyplot as plt\n",
        "import seaborn as sns\n",
        "from sklearn.linear_model import LinearRegression\n",
        "\n",
        "file = '/content/drive/MyDrive/1. Semesters/Semester 6/DM/Project/DMDataset_TeamID_06.csv'\n",
        "df = pd.read_csv(file)\n",
        "\n",
        "# Step 2: Convert date\n",
        "df['Date'] = pd.to_datetime(df['Date'], errors='coerce')\n",
        "\n",
        "# Step 3: Filter relevant columns\n",
        "columns_needed = ['Date', 'Recip_County', 'Recip_State', 'Administered_Dose1_Recip',\n",
        "                  'Series_Complete_Yes', 'SVI_CTGY']\n",
        "df = df[columns_needed]\n",
        "\n",
        "# Step 4: Map SVI category to numerical rank\n",
        "svi_mapping = {'A': 3, 'B': 2, 'C': 1, 'D': 0}\n",
        "df['SVI_Rank'] = df['SVI_CTGY'].map(svi_mapping)\n",
        "\n",
        "# Step 5: Extract year and group by County-State-Year\n",
        "df['Year'] = df['Date'].dt.year\n",
        "agg_df = df.groupby(['Recip_State', 'Recip_County', 'Year', 'SVI_CTGY', 'SVI_Rank'], as_index=False).agg({\n",
        "    'Series_Complete_Yes': 'sum',\n",
        "    'Administered_Dose1_Recip': 'sum'\n",
        "})\n",
        "\n",
        "# Step 6: Calculate vaccination completion ratio\n",
        "agg_df['Complete_Ratio'] = agg_df['Series_Complete_Yes'] / agg_df['Administered_Dose1_Recip'].replace(0, np.nan)\n",
        "\n",
        "# Step 7: Drop incomplete or invalid rows\n",
        "agg_df = agg_df.dropna(subset=['Complete_Ratio', 'SVI_Rank'])\n",
        "\n",
        "# Step 8: Plot ratio vs. SVI\n",
        "plt.figure(figsize=(10, 6))\n",
        "sns.scatterplot(data=agg_df, x='Complete_Ratio', y='SVI_Rank', hue='SVI_CTGY', palette='viridis')\n",
        "plt.title('Vaccination Completion Ratio vs. SVI Rank')\n",
        "plt.xlabel('Completion Ratio (Series Complete / Dose 1)')\n",
        "plt.ylabel('SVI Rank (A=3, D=0)')\n",
        "plt.grid(True)\n",
        "plt.tight_layout()\n",
        "plt.show()\n",
        "\n",
        "# Step 9: Correlation and linear regression\n",
        "correlation = agg_df['Complete_Ratio'].corr(agg_df['SVI_Rank'])\n",
        "print(f\"📊 Correlation between completion ratio and SVI Rank: {correlation:.4f}\")\n",
        "\n",
        "X = agg_df[['Complete_Ratio']]\n",
        "y = agg_df['SVI_Rank']\n",
        "reg = LinearRegression().fit(X, y)\n",
        "print(f\"🧮 Regression Coefficient: {reg.coef_[0]:.4f}\")\n",
        "print(f\"📈 Intercept: {reg.intercept_:.4f}\")\n",
        "print(f\"🔢 R² Score: {reg.score(X, y):.4f}\")"
      ],
      "metadata": {
        "colab": {
          "base_uri": "https://localhost:8080/",
          "height": 703
        },
        "id": "3OAelxjHyAz0",
        "outputId": "34f1bcd6-8e99-4afb-99d2-37aac066f671"
      },
      "execution_count": 37,
      "outputs": [
        {
          "output_type": "stream",
          "name": "stderr",
          "text": [
            "<ipython-input-37-92c2f936db7c>:8: DtypeWarning: Columns (1) have mixed types. Specify dtype option on import or set low_memory=False.\n",
            "  df = pd.read_csv(file)\n"
          ]
        },
        {
          "output_type": "display_data",
          "data": {
            "text/plain": [
              "<Figure size 1000x600 with 1 Axes>"
            ],
            "image/png": "[encoded data removed]"
          },
          "metadata": {}
        },
        {
          "output_type": "stream",
          "name": "stdout",
          "text": [
            "📊 Correlation between completion ratio and SVI Rank: 0.0502\n",
            "🧮 Regression Coefficient: 0.0127\n",
            "📈 Intercept: 1.4701\n",
            "🔢 R² Score: 0.0025\n"
          ]
        }
      ]
    },
    {
      "cell_type": "code",
      "source": [
        "# Step 1: Imports and setup\n",
        "import pandas as pd\n",
        "import numpy as np\n",
        "from sklearn.ensemble import RandomForestClassifier\n",
        "from sklearn.model_selection import train_test_split\n",
        "from sklearn.preprocessing import OneHotEncoder, StandardScaler\n",
        "from sklearn.metrics import classification_report, confusion_matrix\n",
        "from sklearn.compose import ColumnTransformer\n",
        "from sklearn.pipeline import Pipeline\n",
        "import matplotlib.pyplot as plt\n",
        "import seaborn as sns\n",
        "\n",
        "# Step 2: Load vaccination data\n",
        "years = ['2021', '2022', '2023']\n",
        "vacc_files = {year: f'vaccination_data_{year}.csv' for year in years}\n",
        "\n",
        "svi_data = []\n",
        "for year in years:\n",
        "    df = pd.read_csv(vacc_files[year])\n",
        "    df = df[['Recip_State', 'Recip_County', 'SVI_CTGY', 'Metro_status', 'Administered_Dose1_Recip', 'Series_Complete_Yes']]\n",
        "    df.columns = ['State', 'County', 'SVI_CTGY', 'Metro_status', 'First_Dose_Administered', 'Series_Complete']\n",
        "    df['Year'] = int(year)\n",
        "    svi_data.append(df)\n",
        "\n",
        "df_all = pd.concat(svi_data, ignore_index=True)\n",
        "\n",
        "# Step 3: Clean and preprocess\n",
        "df_all['State'] = df_all['State'].astype(str).str.strip().str.upper()\n",
        "df_all['County'] = df_all['County'].astype(str).str.strip().str.upper().str.replace(' COUNTY', '', regex=False)\n",
        "df_all['Metro_status'] = df_all['Metro_status'].astype(str).str.strip().str.title()\n",
        "\n",
        "df_all['SVI_Rank'] = df_all['SVI_CTGY'].map({'A': 3, 'B': 2, 'C': 1, 'D': 0})\n",
        "df_all = df_all.dropna(subset=['SVI_Rank', 'Metro_status', 'First_Dose_Administered', 'Series_Complete'])\n",
        "\n",
        "# Step 4: Visualize distribution\n",
        "sns.countplot(data=df_all, x='SVI_CTGY', hue='Metro_status', order=['A', 'B', 'C', 'D'])\n",
        "plt.title(\"SVI Category Distribution by Metro Status\")\n",
        "plt.xlabel(\"SVI Category\")\n",
        "plt.ylabel(\"Count\")\n",
        "plt.show()\n",
        "\n",
        "# Step 5: Define features and target\n",
        "X = df_all[['Metro_status', 'First_Dose_Administered', 'Series_Complete']]\n",
        "y = df_all['SVI_Rank']\n",
        "\n",
        "# Step 6: Pipeline with OneHotEncoder (no category drop) and scaling\n",
        "pipeline = Pipeline([\n",
        "    ('preprocessor', ColumnTransformer([\n",
        "        ('cat', OneHotEncoder(drop=None, handle_unknown='ignore'), ['Metro_status']),\n",
        "        ('num', StandardScaler(), ['First_Dose_Administered', 'Series_Complete'])\n",
        "    ])),\n",
        "    ('classifier', RandomForestClassifier(n_estimators=100, class_weight='balanced', random_state=42))\n",
        "])\n",
        "\n",
        "# Step 7: Train/test split\n",
        "X_train, X_test, y_train, y_test = train_test_split(X, y, test_size=0.2, random_state=42)\n",
        "\n",
        "# Step 8: Train the model\n",
        "pipeline.fit(X_train, y_train)\n",
        "y_pred = pipeline.predict(X_test)\n",
        "\n",
        "# Step 9: Evaluation\n",
        "print(\"Classification Report:\\n\", classification_report(y_test, y_pred))\n",
        "\n",
        "# Confusion matrix\n",
        "sns.heatmap(confusion_matrix(y_test, y_pred), annot=True, fmt='d', cmap='Blues')\n",
        "plt.title(\"Confusion Matrix\")\n",
        "plt.xlabel(\"Predicted\")\n",
        "plt.ylabel(\"Actual\")\n",
        "plt.show()\n",
        "\n",
        "# Step 11: Inference function\n",
        "def predict_svi_metro_pop(input_dict):\n",
        "    data = {\n",
        "        'Metro_status': str(input_dict.get('Metro_status', 'Non-Metro')).strip().title(),\n",
        "        'First_Dose_Administered': input_dict.get('First_Dose_Administered', 0),\n",
        "        'Series_Complete': input_dict.get('Series_Complete', 0)\n",
        "    }\n",
        "    df_input = pd.DataFrame([data])\n",
        "    prediction = pipeline.predict(df_input)[0]\n",
        "    return {3: 'A', 2: 'B', 1: 'C', 0: 'D'}[prediction]\n",
        "\n",
        "# Step 12: Example predictions\n",
        "print(\"Example (Urban with first dose and completed series):\", predict_svi_metro_pop({'Metro_status': 'Metro', 'First_Dose_Administered': 150000, 'Series_Complete': 120000}))\n",
        "print(\"Example (Rural with first dose and completed series):\", predict_svi_metro_pop({'Metro_status': 'Non-Metro', 'First_Dose_Administered': 5000, 'Series_Complete': 4000}))"
      ],
      "metadata": {
        "colab": {
          "base_uri": "https://localhost:8080/",
          "height": 1000
        },
        "id": "9mn4K9Uhck-f",
        "outputId": "10737895-a4f8-4597-9310-7f0c01db1486"
      },
      "execution_count": 2,
      "outputs": [
        {
          "output_type": "display_data",
          "data": {
            "text/plain": [
              "<Figure size 640x480 with 1 Axes>"
            ],
            "image/png": "[encoded data removed]"
          },
          "metadata": {}
        },
        {
          "output_type": "stream",
          "name": "stdout",
          "text": [
            "Classification Report:\n",
            "               precision    recall  f1-score   support\n",
            "\n",
            "         0.0       0.58      0.72      0.65     92357\n",
            "         1.0       0.64      0.57      0.60     91713\n",
            "         2.0       0.65      0.60      0.62     90842\n",
            "         3.0       0.68      0.64      0.66     86518\n",
            "\n",
            "    accuracy                           0.63    361430\n",
            "   macro avg       0.64      0.63      0.63    361430\n",
            "weighted avg       0.64      0.63      0.63    361430\n",
            "\n"
          ]
        },
        {
          "output_type": "display_data",
          "data": {
            "text/plain": [
              "<Figure size 640x480 with 2 Axes>"
            ],
            "image/png": "[encoded data removed]"
          },
          "metadata": {}
        },
        {
          "output_type": "stream",
          "name": "stdout",
          "text": [
            "Example (Urban with first dose and completed series): B\n",
            "Example (Rural with first dose and completed series): C\n"
          ]
        }
      ]
    },
    {
      "cell_type": "code",
      "source": [
        "import pandas as pd\n",
        "import numpy as np\n",
        "from sklearn.ensemble import RandomForestClassifier\n",
        "from sklearn.preprocessing import StandardScaler\n",
        "from sklearn.model_selection import train_test_split\n",
        "from sklearn.metrics import classification_report, confusion_matrix\n",
        "import matplotlib.pyplot as plt\n",
        "import seaborn as sns\n",
        "\n",
        "# --- Step 1: Load and prepare Indian caste data ---\n",
        "india_df = pd.read_csv('india_caste_data.csv')  # Replace with your actual CSV file path\n",
        "\n",
        "# Normalize column names\n",
        "india_df.columns = india_df.columns.str.strip().str.upper()\n",
        "india_df = india_df.rename(columns={\n",
        "    'TOT_P': 'Population',\n",
        "    'P_SC': 'SC',\n",
        "    'P_ST': 'ST',\n",
        "    'P_OC': 'OC',\n",
        "    'NAME': 'State'\n",
        "})\n",
        "\n",
        "# Handle missing values\n",
        "india_df[['Population', 'SC', 'ST', 'OC']] = india_df[['Population', 'SC', 'ST', 'OC']].fillna(0)\n",
        "\n",
        "# Calculate proportions\n",
        "india_df['SC_pct'] = india_df['SC'] / india_df['Population'].replace(0, 1)\n",
        "india_df['ST_pct'] = india_df['ST'] / india_df['Population'].replace(0, 1)\n",
        "india_df['OC_pct'] = india_df['OC'] / india_df['Population'].replace(0, 1)\n",
        "\n",
        "# --- Step 2: Map caste proportions to race-based features used in US model ---\n",
        "mapped_df = pd.DataFrame()\n",
        "mapped_df['Population'] = india_df['Population']\n",
        "mapped_df['White_pct'] = india_df['OC_pct']       # OC → White\n",
        "mapped_df['Black_pct'] = india_df['SC_pct']       # SC → Black\n",
        "mapped_df['Hispanic_pct'] = india_df['ST_pct']    # ST → Hispanic\n",
        "mapped_df['Asian_pct'] = 0                        # No direct analog\n",
        "\n",
        "# --- Step 3: Generate pseudo-labels using US-trained model ---\n",
        "X_india_us_format = mapped_df[['Population', 'White_pct', 'Black_pct', 'Hispanic_pct', 'Asian_pct']]\n",
        "X_india_scaled = scaler.transform(X_india_us_format)\n",
        "pseudo_labels = np.argmax(model.predict(X_india_scaled), axis=1)\n",
        "\n",
        "india_df['Pseudo_SVI_Rank'] = pseudo_labels\n",
        "india_df['Pseudo_SVI_CTGY'] = india_df['Pseudo_SVI_Rank'].map({3: 'A', 2: 'B', 1: 'C', 0: 'D'})\n",
        "\n",
        "# --- Step 4: Train a new model using Indian features and pseudo-labels ---\n",
        "features_india = ['Population', 'SC_pct', 'ST_pct', 'OC_pct']\n",
        "X = india_df[features_india]\n",
        "y = india_df['Pseudo_SVI_Rank']\n",
        "\n",
        "# Scale with a new scaler for Indian data\n",
        "scaler_india = StandardScaler()\n",
        "X_scaled = scaler_india.fit_transform(X)\n",
        "\n",
        "X_train, X_test, y_train, y_test = train_test_split(X_scaled, y, test_size=0.2, random_state=42)\n",
        "\n",
        "india_model = RandomForestClassifier(n_estimators=100, class_weight='balanced', random_state=42)\n",
        "india_model.fit(X_train, y_train)\n",
        "\n",
        "# --- Step 5: Evaluation ---\n",
        "y_pred = india_model.predict(X_test)\n",
        "\n",
        "print(\"Classification Report (India, Pseudo Labels):\\n\")\n",
        "print(classification_report(y_test, y_pred))\n",
        "\n",
        "sns.heatmap(confusion_matrix(y_test, y_pred), annot=True, fmt='d', cmap='Purples')\n",
        "plt.title(\"Confusion Matrix (India Model)\")\n",
        "plt.xlabel(\"Predicted\")\n",
        "plt.ylabel(\"Actual\")\n",
        "plt.show()\n",
        "\n",
        "# --- Step 6: Prediction function for Indian inputs ---\n",
        "def predict_svi_india(input_dict):\n",
        "    input_dict = input_dict.copy()\n",
        "    pop = input_dict.get('Population', 0) or 1\n",
        "    input_dict['SC_pct'] = input_dict.get('SC', 0) / pop\n",
        "    input_dict['ST_pct'] = input_dict.get('ST', 0) / pop\n",
        "    input_dict['OC_pct'] = input_dict.get('OC', 0) / pop\n",
        "\n",
        "    input_vector = np.array([[input_dict.get(col, 0) for col in features_india]])\n",
        "    input_scaled = scaler_india.transform(input_vector)\n",
        "    prediction = india_model.predict(input_scaled)[0]\n",
        "    return {3: 'A', 2: 'B', 1: 'C', 0: 'D'}[prediction]"
      ],
      "metadata": {
        "colab": {
          "base_uri": "https://localhost:8080/",
          "height": 680
        },
        "id": "D7BD5UwT3dsJ",
        "outputId": "fb67772a-19c5-44bc-9f33-2c13d8c53231"
      },
      "execution_count": 47,
      "outputs": [
        {
          "output_type": "stream",
          "name": "stdout",
          "text": [
            "\u001b[1m2/2\u001b[0m \u001b[32m━━━━━━━━━━━━━━━━━━━━\u001b[0m\u001b[37m\u001b[0m \u001b[1m0s\u001b[0m 21ms/step\n",
            "Classification Report (India, Pseudo Labels):\n",
            "\n",
            "              precision    recall  f1-score   support\n",
            "\n",
            "           0       1.00      0.75      0.86         4\n",
            "           3       0.75      1.00      0.86         3\n",
            "\n",
            "    accuracy                           0.86         7\n",
            "   macro avg       0.88      0.88      0.86         7\n",
            "weighted avg       0.89      0.86      0.86         7\n",
            "\n"
          ]
        },
        {
          "output_type": "display_data",
          "data": {
            "text/plain": [
              "<Figure size 640x480 with 2 Axes>"
            ],
            "image/png": "[encoded data removed]"
          },
          "metadata": {}
        }
      ]
    },
    {
      "cell_type": "code",
      "source": [
        "# Example\n",
        "example_input = {'SC': 800, 'ST': 150, 'OC': 50, 'Population': 1000}\n",
        "print(\"Predicted SVI Category for Indian State:\", predict_svi_india(example_input))"
      ],
      "metadata": {
        "colab": {
          "base_uri": "https://localhost:8080/"
        },
        "id": "f2QAH9zu5hGl",
        "outputId": "218853a2-a036-4e89-c37a-06f0c53c4e90"
      },
      "execution_count": 49,
      "outputs": [
        {
          "output_type": "stream",
          "name": "stdout",
          "text": [
            "Predicted SVI Category for Indian State: A\n"
          ]
        },
        {
          "output_type": "stream",
          "name": "stderr",
          "text": [
            "/usr/local/lib/python3.11/dist-packages/sklearn/utils/validation.py:2739: UserWarning: X does not have valid feature names, but StandardScaler was fitted with feature names\n",
            "  warnings.warn(\n"
          ]
        }
      ]
    },
    {
      "cell_type": "code",
      "source": [
        "example_input = {'SC': 50, 'ST': 150, 'OC': 800, 'Population': 1000}\n",
        "print(\"Predicted SVI Category for Indian State:\", predict_svi_india(example_input))"
      ],
      "metadata": {
        "colab": {
          "base_uri": "https://localhost:8080/"
        },
        "id": "3ef0D4BY5tGU",
        "outputId": "553c8978-5fb7-4d34-9297-fa6f5c32a9ed"
      },
      "execution_count": 50,
      "outputs": [
        {
          "output_type": "stream",
          "name": "stdout",
          "text": [
            "Predicted SVI Category for Indian State: D\n"
          ]
        },
        {
          "output_type": "stream",
          "name": "stderr",
          "text": [
            "/usr/local/lib/python3.11/dist-packages/sklearn/utils/validation.py:2739: UserWarning: X does not have valid feature names, but StandardScaler was fitted with feature names\n",
            "  warnings.warn(\n"
          ]
        }
      ]
    },
    {
      "cell_type": "code",
      "source": [
        "example_input = {'SC': 150, 'ST': 800, 'OC': 50, 'Population': 1000}\n",
        "print(\"Predicted SVI Category for Indian State:\", predict_svi_india(example_input))"
      ],
      "metadata": {
        "colab": {
          "base_uri": "https://localhost:8080/"
        },
        "id": "M8Zq0h905y90",
        "outputId": "c15126ac-8826-4912-935c-bfb5679884bf"
      },
      "execution_count": 51,
      "outputs": [
        {
          "output_type": "stream",
          "name": "stdout",
          "text": [
            "Predicted SVI Category for Indian State: B\n"
          ]
        },
        {
          "output_type": "stream",
          "name": "stderr",
          "text": [
            "/usr/local/lib/python3.11/dist-packages/sklearn/utils/validation.py:2739: UserWarning: X does not have valid feature names, but StandardScaler was fitted with feature names\n",
            "  warnings.warn(\n"
          ]
        }
      ]
    },
    {
      "cell_type": "code",
      "source": [
        "import pandas as pd\n",
        "import numpy as np\n",
        "from sklearn.ensemble import RandomForestClassifier\n",
        "from sklearn.preprocessing import StandardScaler\n",
        "from sklearn.model_selection import train_test_split\n",
        "from sklearn.metrics import classification_report, confusion_matrix\n",
        "import matplotlib.pyplot as plt\n",
        "import seaborn as sns\n",
        "from imblearn.over_sampling import SMOTE  # For oversampling minority class\n",
        "from sklearn.impute import SimpleImputer  # For handling missing values\n",
        "\n",
        "# Step 3: File Paths for USA Metro Data (2021-2023)\n",
        "metro_files = {\n",
        "    '2021': 'vaccination_data_2021.csv',\n",
        "    '2022': 'vaccination_data_2022.csv',\n",
        "    '2023': 'vaccination_data_2023.csv'\n",
        "}\n",
        "\n",
        "years = ['2021', '2022', '2023']\n",
        "\n",
        "# Step 4: Load USA Metro Status Data (with metro status and vaccination data)\n",
        "metro_data = []\n",
        "expected_cols = ['Date', 'Recip_County', 'Recip_State', 'Administered_Dose1_Recip',\n",
        "                 'Series_Complete_Yes', 'SVI_CTGY', 'Metro_status', 'SVI_Rank']\n",
        "\n",
        "for year in years:\n",
        "    file_path = metro_files[year]\n",
        "    df = pd.read_csv(file_path)\n",
        "    if df.shape[1] == 8:\n",
        "        df.columns = expected_cols\n",
        "    else:\n",
        "        raise ValueError(f\"Unexpected number of columns in file {file_path}\")\n",
        "    df['Year'] = int(year)\n",
        "    metro_data.append(df)\n",
        "\n",
        "metro_all = pd.concat(metro_data, ignore_index=True)\n",
        "\n",
        "# Step 5: Normalize State and County Names\n",
        "def normalize_names(df):\n",
        "    df['Recip_State'] = df['Recip_State'].astype(str).str.strip().str.upper()\n",
        "    df['Recip_County'] = df['Recip_County'].astype(str).str.strip().str.upper().str.replace(' COUNTY', '', regex=False)\n",
        "    return df\n",
        "\n",
        "metro_all = normalize_names(metro_all)\n",
        "\n",
        "# Step 6: Correct SVI Label Mapping\n",
        "metro_all['SVI_Rank'] = metro_all['SVI_CTGY'].map({'A': 3, 'B': 2, 'C': 1, 'D': 0})\n",
        "metro_all = metro_all.dropna(subset=['SVI_Rank'])\n",
        "\n",
        "# Step 7: Feature Engineering\n",
        "metro_all['Vaccination_Coverage'] = metro_all['Series_Complete_Yes'] / metro_all['Administered_Dose1_Recip'].replace(0, 1)\n",
        "\n",
        "# Step 8: Feature Matrix and Labels\n",
        "features = ['Administered_Dose1_Recip', 'Series_Complete_Yes', 'Vaccination_Coverage']\n",
        "X = metro_all[features]\n",
        "y = metro_all['SVI_Rank']\n",
        "\n",
        "# Step 9: Handle Missing Values (Impute NaNs)\n",
        "imputer = SimpleImputer(strategy='mean')  # Using the mean to impute missing values\n",
        "X_imputed = imputer.fit_transform(X)\n",
        "\n",
        "# Step 10: Scale the Features\n",
        "scaler = StandardScaler()\n",
        "X_scaled = scaler.fit_transform(X_imputed)\n",
        "\n",
        "# Step 11: Check Class Distribution\n",
        "print(\"Class distribution in the dataset:\")\n",
        "print(y.value_counts())\n",
        "\n",
        "# Step 12: Split the Data\n",
        "X_train, X_test, y_train, y_test = train_test_split(X_scaled, y, test_size=0.2, random_state=42)\n",
        "\n",
        "# Step 13: Handle Class Imbalance using SMOTE\n",
        "smote = SMOTE(random_state=42)\n",
        "X_train_balanced, y_train_balanced = smote.fit_resample(X_train, y_train)\n",
        "\n",
        "# Step 14: Train the Model\n",
        "model = RandomForestClassifier(n_estimators=100, class_weight='balanced', random_state=42)\n",
        "model.fit(X_train_balanced, y_train_balanced)\n",
        "\n",
        "# Step 15: Evaluate the Model\n",
        "y_pred = model.predict(X_test)\n",
        "print(\"Classification Report:\\n\", classification_report(y_test, y_pred))\n",
        "\n",
        "# Plot confusion matrix\n",
        "sns.heatmap(confusion_matrix(y_test, y_pred), annot=True, fmt='d', cmap='Blues')\n",
        "plt.title(\"Confusion Matrix\")\n",
        "plt.xlabel(\"Predicted\")\n",
        "plt.ylabel(\"Actual\")\n",
        "plt.show()\n",
        "\n",
        "# Step 16: Inference Function\n",
        "def predict_svi_metro(input_dict):\n",
        "    input_dict = input_dict.copy()\n",
        "    input_vector = np.array([[input_dict.get(col, 0) for col in features]])\n",
        "    input_scaled = scaler.transform(input_vector)\n",
        "    prediction = model.predict(input_scaled)[0]\n",
        "    return {3: 'A', 2: 'B', 1: 'C', 0: 'D'}[prediction]\n"
      ],
      "metadata": {
        "colab": {
          "base_uri": "https://localhost:8080/",
          "height": 926
        },
        "id": "uB-NIu7JezwK",
        "outputId": "275fbb8d-01e2-4490-caa5-a8c2c05112de"
      },
      "execution_count": 10,
      "outputs": [
        {
          "output_type": "stream",
          "name": "stderr",
          "text": [
            "<ipython-input-10-28030175d35b>:51: SettingWithCopyWarning: \n",
            "A value is trying to be set on a copy of a slice from a DataFrame.\n",
            "Try using .loc[row_indexer,col_indexer] = value instead\n",
            "\n",
            "See the caveats in the documentation: https://pandas.pydata.org/pandas-docs/stable/user_guide/indexing.html#returning-a-view-versus-a-copy\n",
            "  metro_all['Vaccination_Coverage'] = metro_all['Series_Complete_Yes'] / metro_all['Administered_Dose1_Recip'].replace(0, 1)\n"
          ]
        },
        {
          "output_type": "stream",
          "name": "stdout",
          "text": [
            "Class distribution in the dataset:\n",
            "SVI_Rank\n",
            "3.0    466653\n",
            "0.0    466116\n",
            "2.0    465537\n",
            "1.0    465516\n",
            "Name: count, dtype: int64\n",
            "Classification Report:\n",
            "               precision    recall  f1-score   support\n",
            "\n",
            "         0.0       0.60      0.73      0.66     93312\n",
            "         1.0       0.67      0.61      0.64     93054\n",
            "         2.0       0.67      0.63      0.65     92831\n",
            "         3.0       0.71      0.67      0.69     93568\n",
            "\n",
            "    accuracy                           0.66    372765\n",
            "   macro avg       0.66      0.66      0.66    372765\n",
            "weighted avg       0.66      0.66      0.66    372765\n",
            "\n"
          ]
        },
        {
          "output_type": "display_data",
          "data": {
            "text/plain": [
              "<Figure size 640x480 with 2 Axes>"
            ],
            "image/png": "[encoded data removed]"
          },
          "metadata": {}
        }
      ]
    },
    {
      "cell_type": "code",
      "source": [
        "example_1 = {\n",
        "    'Administered_Dose1_Recip': 50000,   # Number of people who received the first dose\n",
        "    'Series_Complete_Yes': 48000,         # Number of people who completed the vaccination series\n",
        "    'Vaccination_Coverage': 0.96         # Coverage rate: 48,000 completed / 50,000 administered\n",
        "}\n",
        "\n",
        "# Call prediction function\n",
        "result_1 = predict_svi_metro(example_1)\n",
        "print(f\"Predicted SVI Rank for Example 1: {result_1}\")"
      ],
      "metadata": {
        "colab": {
          "base_uri": "https://localhost:8080/"
        },
        "id": "0rFT7DoXio-O",
        "outputId": "f0ddcaec-cd8e-4b92-88a6-e318b9191453"
      },
      "execution_count": 11,
      "outputs": [
        {
          "output_type": "stream",
          "name": "stdout",
          "text": [
            "Predicted SVI Rank for Example 1: C\n"
          ]
        }
      ]
    },
    {
      "cell_type": "code",
      "source": [
        "example_2 = {\n",
        "    'Administered_Dose1_Recip': 30000,   # Number of people who received the first dose\n",
        "    'Series_Complete_Yes': 15000,         # Number of people who completed the vaccination series\n",
        "    'Vaccination_Coverage': 0.50         # Coverage rate: 15,000 completed / 30,000 administered\n",
        "}\n",
        "\n",
        "# Call prediction function\n",
        "result_2 = predict_svi_metro(example_2)\n",
        "print(f\"Predicted SVI Rank for Example 2: {result_2}\")"
      ],
      "metadata": {
        "colab": {
          "base_uri": "https://localhost:8080/"
        },
        "id": "8WtzrVALi6yW",
        "outputId": "76ef8067-05a1-40f9-cb8b-a23593b776af"
      },
      "execution_count": 13,
      "outputs": [
        {
          "output_type": "stream",
          "name": "stdout",
          "text": [
            "Predicted SVI Rank for Example 2: A\n"
          ]
        }
      ]
    },
    {
      "cell_type": "code",
      "source": [
        "import pandas as pd\n",
        "import numpy as np\n",
        "from sklearn.model_selection import train_test_split\n",
        "from sklearn.metrics import classification_report, confusion_matrix\n",
        "import matplotlib.pyplot as plt\n",
        "import seaborn as sns\n",
        "from xgboost import XGBClassifier\n",
        "from imblearn.over_sampling import SMOTE\n",
        "\n",
        "# Load and prepare India data\n",
        "india_df = pd.read_excel(\"IndiaMetroStatus.xlsx\")\n",
        "india_df.columns = india_df.columns.str.strip().str.upper()\n",
        "india_df = india_df.rename(columns={'NAME': 'Region', 'TAR_POP': 'Population'})\n",
        "india_df[['RURAL', 'URBAN', 'COVERAGE']] = india_df[['RURAL', 'URBAN', 'COVERAGE']].fillna(0)\n",
        "\n",
        "# Feature engineering\n",
        "india_df['Rural_Urban_Ratio'] = india_df['RURAL'] / india_df['URBAN'].replace(0, 1)\n",
        "india_df['Rural_Pct'] = india_df['RURAL'] / india_df['Population'].replace(0, 1)\n",
        "india_df['Urban_Pct'] = india_df['URBAN'] / india_df['Population'].replace(0, 1)\n",
        "\n",
        "# Pseudo-labeling via US model\n",
        "mapped_df = india_df[['Population', 'COVERAGE']].copy()\n",
        "mapped_df['Administered_Dose1_Recip'] = mapped_df['Population']\n",
        "mapped_df['Series_Complete_Yes'] = mapped_df['Population'] * (mapped_df['COVERAGE'] / 100)\n",
        "mapped_df['Vaccination_Coverage'] = mapped_df['Series_Complete_Yes'] / mapped_df['Administered_Dose1_Recip'].replace(0, 1)\n",
        "\n",
        "X_transfer = mapped_df[['Administered_Dose1_Recip', 'Series_Complete_Yes', 'Vaccination_Coverage']]\n",
        "X_transfer_scaled = scaler.transform(X_transfer)\n",
        "pseudo_labels = model.predict(X_transfer_scaled)\n",
        "\n",
        "india_df['Pseudo_SVI_Rank'] = pseudo_labels\n",
        "india_df['Pseudo_SVI_CTGY'] = india_df['Pseudo_SVI_Rank'].map({3: 'A', 2: 'B', 1: 'C', 0: 'D'})\n",
        "\n",
        "# Filter classes with at least 2 instances\n",
        "X = india_df[['Population', 'Rural_Urban_Ratio', 'COVERAGE', 'Rural_Pct', 'Urban_Pct']]\n",
        "y = india_df['Pseudo_SVI_Rank']\n",
        "valid_classes = y.value_counts()[y.value_counts() >= 2].index\n",
        "mask = y.isin(valid_classes)\n",
        "X = X[mask]\n",
        "y = y[mask]\n",
        "\n",
        "# Balance the dataset using SMOTE\n",
        "sm = SMOTE(random_state=42)\n",
        "X_bal, y_bal = sm.fit_resample(X, y)\n",
        "\n",
        "# Train/test split\n",
        "X_train, X_test, y_train, y_test = train_test_split(X_bal, y_bal, test_size=0.25, random_state=42, stratify=y_bal)\n",
        "\n",
        "# XGBoost model\n",
        "india_model = XGBClassifier(n_estimators=300, max_depth=4, learning_rate=0.05, objective='multi:softmax',\n",
        "                            num_class=4, eval_metric='mlogloss', random_state=42, use_label_encoder=False)\n",
        "india_model.fit(X_train, y_train)\n",
        "\n",
        "# Evaluation\n",
        "y_pred = india_model.predict(X_test)\n",
        "print(\"Classification Report (India XGBoost Transfer Learning Model):\\n\")\n",
        "print(classification_report(y_test, y_pred))\n",
        "\n",
        "sns.heatmap(confusion_matrix(y_test, y_pred), annot=True, fmt='d', cmap='viridis')\n",
        "plt.title(\"Confusion Matrix (India SVI XGBoost)\")\n",
        "plt.xlabel(\"Predicted\")\n",
        "plt.ylabel(\"Actual\")\n",
        "plt.show()\n",
        "\n",
        "# Prediction function\n",
        "def predict_svi_india_rural_urban(input_dict):\n",
        "    input_dict = input_dict.copy()\n",
        "    pop = input_dict.get('Population', 0) or 1\n",
        "    rural = input_dict.get('RURAL', 0)\n",
        "    urban = input_dict.get('URBAN', 0)\n",
        "    coverage = input_dict.get('COVERAGE', 0)\n",
        "\n",
        "    input_dict['Rural_Urban_Ratio'] = rural / urban if urban != 0 else 0\n",
        "    input_dict['Rural_Pct'] = rural / pop\n",
        "    input_dict['Urban_Pct'] = urban / pop\n",
        "\n",
        "    vector = [input_dict.get(col, 0) for col in ['Population', 'Rural_Urban_Ratio', 'COVERAGE', 'Rural_Pct', 'Urban_Pct']]\n",
        "    prediction = india_model.predict([vector])[0]\n",
        "    return {3: 'A', 2: 'B', 1: 'C', 0: 'D'}.get(prediction, 'Unknown')"
      ],
      "metadata": {
        "colab": {
          "base_uri": "https://localhost:8080/",
          "height": 787
        },
        "id": "CPRjnlalp9kn",
        "outputId": "647a86ca-14d2-400a-b3c4-00e7dd822c2c"
      },
      "execution_count": 31,
      "outputs": [
        {
          "output_type": "stream",
          "name": "stderr",
          "text": [
            "/usr/local/lib/python3.11/dist-packages/sklearn/utils/validation.py:2732: UserWarning: X has feature names, but StandardScaler was fitted without feature names\n",
            "  warnings.warn(\n",
            "/usr/local/lib/python3.11/dist-packages/xgboost/core.py:158: UserWarning: [14:07:01] WARNING: /workspace/src/learner.cc:740: \n",
            "Parameters: { \"use_label_encoder\" } are not used.\n",
            "\n",
            "  warnings.warn(smsg, UserWarning)\n"
          ]
        },
        {
          "output_type": "stream",
          "name": "stdout",
          "text": [
            "Classification Report (India XGBoost Transfer Learning Model):\n",
            "\n",
            "              precision    recall  f1-score   support\n",
            "\n",
            "         0.0       1.00      1.00      1.00         6\n",
            "         1.0       1.00      1.00      1.00         6\n",
            "\n",
            "    accuracy                           1.00        12\n",
            "   macro avg       1.00      1.00      1.00        12\n",
            "weighted avg       1.00      1.00      1.00        12\n",
            "\n"
          ]
        },
        {
          "output_type": "display_data",
          "data": {
            "text/plain": [
              "<Figure size 640x480 with 2 Axes>"
            ],
            "image/png": "[encoded data removed]"
          },
          "metadata": {}
        }
      ]
    },
    {
      "cell_type": "code",
      "source": [
        "predict_svi_india_rural_urban({\n",
        "    'Population': 20000000,\n",
        "    'RURAL': 1000000,\n",
        "    'URBAN': 19000000,\n",
        "    'COVERAGE': 92.5\n",
        "})\n",
        "# Expected: Likely category 'D' or 'C' (less vulnerable)"
      ],
      "metadata": {
        "colab": {
          "base_uri": "https://localhost:8080/",
          "height": 35
        },
        "id": "Yp34TdcXofcg",
        "outputId": "220bd87f-496d-486f-ef27-7779c419066d"
      },
      "execution_count": 32,
      "outputs": [
        {
          "output_type": "execute_result",
          "data": {
            "text/plain": [
              "'D'"
            ],
            "application/vnd.google.colaboratory.intrinsic+json": {
              "type": "string"
            }
          },
          "metadata": {},
          "execution_count": 32
        }
      ]
    },
    {
      "cell_type": "code",
      "source": [
        "predict_svi_india_rural_urban({\n",
        "    'Population': 1200000,\n",
        "    'RURAL': 1000000,\n",
        "    'URBAN': 200000,\n",
        "    'COVERAGE': 47.3\n",
        "})\n",
        "# Expected: Likely category 'A' or 'B' (more vulnerable)"
      ],
      "metadata": {
        "colab": {
          "base_uri": "https://localhost:8080/",
          "height": 35
        },
        "id": "ZwzZ0N3Qookh",
        "outputId": "2cbcf30c-cade-4a48-e69e-27acde98c2a1"
      },
      "execution_count": 33,
      "outputs": [
        {
          "output_type": "execute_result",
          "data": {
            "text/plain": [
              "'C'"
            ],
            "application/vnd.google.colaboratory.intrinsic+json": {
              "type": "string"
            }
          },
          "metadata": {},
          "execution_count": 33
        }
      ]
    },
    {
      "cell_type": "code",
      "source": [
        "predict_svi_india_rural_urban({\n",
        "    'Population': 5000000,\n",
        "    'RURAL': 2500000,\n",
        "    'URBAN': 2500000,\n",
        "    'COVERAGE': 68.1\n",
        "})\n",
        "# Expected: Likely category 'B' or 'C'"
      ],
      "metadata": {
        "colab": {
          "base_uri": "https://localhost:8080/",
          "height": 35
        },
        "id": "0muaTUAGovTT",
        "outputId": "7771404b-ecda-4369-cbf3-ba1ef70e5b09"
      },
      "execution_count": 34,
      "outputs": [
        {
          "output_type": "execute_result",
          "data": {
            "text/plain": [
              "'C'"
            ],
            "application/vnd.google.colaboratory.intrinsic+json": {
              "type": "string"
            }
          },
          "metadata": {},
          "execution_count": 34
        }
      ]
    },
    {
      "cell_type": "code",
      "source": [
        "predict_svi_india_rural_urban({\n",
        "    'Population': 3000000,\n",
        "    'RURAL': 0,\n",
        "    'URBAN': 3000000,\n",
        "    'COVERAGE': 35.0\n",
        "})\n",
        "# Expected: Likely category 'B' or even 'A' depending on how strongly the model weights coverage"
      ],
      "metadata": {
        "colab": {
          "base_uri": "https://localhost:8080/",
          "height": 35
        },
        "id": "Tj6V7_LpozWG",
        "outputId": "89d679f3-64ac-4434-8aea-6554d8a1353d"
      },
      "execution_count": 35,
      "outputs": [
        {
          "output_type": "execute_result",
          "data": {
            "text/plain": [
              "'C'"
            ],
            "application/vnd.google.colaboratory.intrinsic+json": {
              "type": "string"
            }
          },
          "metadata": {},
          "execution_count": 35
        }
      ]
    },
    {
      "cell_type": "markdown",
      "source": [
        "## **Stacked Ensemble Model**\n",
        "\n"
      ],
      "metadata": {
        "id": "qupIie_prrZE"
      }
    },
    {
      "cell_type": "code",
      "source": [
        "import pandas as pd\n",
        "import numpy as np\n",
        "from sklearn.model_selection import train_test_split\n",
        "from sklearn.preprocessing import StandardScaler\n",
        "from sklearn.metrics import classification_report, confusion_matrix, f1_score\n",
        "import xgboost as xgb\n",
        "from sklearn.model_selection import GridSearchCV\n",
        "import matplotlib.pyplot as plt\n",
        "import seaborn as sns\n",
        "\n",
        "# Load datasets\n",
        "df_metro = pd.read_excel(\"IndiaMetroStatus.xlsx\")\n",
        "df_caste = pd.read_csv(\"india_caste_data.csv\")\n",
        "\n",
        "# Standardize column names\n",
        "df_metro.columns = df_metro.columns.str.strip()\n",
        "df_caste.columns = df_caste.columns.str.strip()\n",
        "\n",
        "# Merge on standardized name\n",
        "df = pd.merge(df_metro, df_caste, left_on=\"NAME\", right_on=\"Name\", how=\"inner\")\n",
        "\n",
        "# Handle missing values\n",
        "for col in ['P_SC', 'P_ST', 'P_OC', 'RURAL', 'URBAN', 'COVERAGE']:\n",
        "    df[col] = df[col].fillna(0)\n",
        "df['TAR_POP'] = df['TAR_POP'].replace(0, 1)  # Prevent division by zero\n",
        "\n",
        "# Feature Engineering\n",
        "df['SC_pct'] = df['P_SC'] / df['TAR_POP']\n",
        "df['ST_pct'] = df['P_ST'] / df['TAR_POP']\n",
        "df['OC_pct'] = df['P_OC'] / df['TAR_POP']\n",
        "df['Rural_Urban_Ratio'] = df['RURAL'] / df['URBAN'].replace(0, 1)\n",
        "df['Rural_Pct'] = df['RURAL'] / df['TAR_POP']\n",
        "df['Urban_Pct'] = df['URBAN'] / df['TAR_POP']\n",
        "\n",
        "# Pseudo labels (if not present, create a synthetic one for demo)\n",
        "if 'Pseudo_SVI_Rank' not in df.columns:\n",
        "    df['Pseudo_SVI_Rank'] = pd.qcut(df['COVERAGE'], 4, labels=[3, 2, 1, 0])  # A-D\n",
        "\n",
        "# Check class distribution\n",
        "print(\"Class Distribution in Pseudo_SVI_Rank:\")\n",
        "print(df['Pseudo_SVI_Rank'].value_counts())\n",
        "\n",
        "# Train caste model\n",
        "features_caste = ['TAR_POP', 'SC_pct', 'ST_pct', 'OC_pct']\n",
        "X_caste = df[features_caste]\n",
        "y = df['Pseudo_SVI_Rank']\n",
        "\n",
        "scaler_caste = StandardScaler()\n",
        "X_caste_scaled = scaler_caste.fit_transform(X_caste)\n",
        "\n",
        "X_train_caste, X_test_caste, y_train, y_test = train_test_split(X_caste_scaled, y, stratify=y, test_size=0.25, random_state=42)\n",
        "\n",
        "# XGBoost with early stopping and hyperparameter tuning\n",
        "param_grid = {\n",
        "    'learning_rate': [0.01, 0.05, 0.1],\n",
        "    'max_depth': [5, 10, 15],\n",
        "    'n_estimators': [100, 200, 500],\n",
        "    'subsample': [0.6, 0.8, 1.0],\n",
        "    'colsample_bytree': [0.6, 0.8, 1.0],\n",
        "    'min_child_weight': [1, 3, 5]\n",
        "}\n",
        "\n",
        "# Setup XGBoost with early stopping\n",
        "model_caste = xgb.XGBClassifier(\n",
        "    use_label_encoder=False,\n",
        "    scale_pos_weight=10,\n",
        "    random_state=42,\n",
        ")\n",
        "\n",
        "# Use GridSearchCV to tune the model\n",
        "grid_search = GridSearchCV(model_caste, param_grid, cv=3, verbose=1, n_jobs=-1, scoring='accuracy')\n",
        "grid_search.fit(X_train_caste, y_train)\n",
        "\n",
        "# Get best model from grid search\n",
        "best_model_caste = grid_search.best_estimator_\n",
        "\n",
        "# Train rural/urban model\n",
        "features_ru = ['TAR_POP', 'Rural_Urban_Ratio', 'Rural_Pct', 'Urban_Pct', 'COVERAGE']\n",
        "X_ru = df[features_ru]\n",
        "\n",
        "scaler_ru = StandardScaler()\n",
        "X_ru_scaled = scaler_ru.fit_transform(X_ru)\n",
        "\n",
        "X_train_ru, X_test_ru, _, _ = train_test_split(X_ru_scaled, y, stratify=y, test_size=0.25, random_state=42)\n",
        "\n",
        "# Setup and tune XGBoost model for rural/urban data\n",
        "model_ru = xgb.XGBClassifier(\n",
        "    use_label_encoder=False,\n",
        "    scale_pos_weight=10,\n",
        "    random_state=42,\n",
        ")\n",
        "\n",
        "grid_search_ru = GridSearchCV(model_ru, param_grid, cv=3, verbose=1, n_jobs=-1, scoring='accuracy')\n",
        "grid_search_ru.fit(X_train_ru, y_train)\n",
        "\n",
        "# Get best model for rural/urban model\n",
        "best_model_ru = grid_search_ru.best_estimator_\n",
        "\n",
        "# Ensemble model\n",
        "y_pred_caste = best_model_caste.predict(X_test_caste)\n",
        "y_pred_ru = best_model_ru.predict(X_test_ru)\n",
        "\n",
        "# Simple majority vote (this can be adjusted to more advanced ensemble techniques)\n",
        "y_pred = np.round((y_pred_caste + y_pred_ru) / 2)\n",
        "\n",
        "# Evaluation\n",
        "print(\"\\nClassification Report:\")\n",
        "print(classification_report(y_test, y_pred))\n",
        "\n",
        "# F1 Score for better evaluation of class imbalance\n",
        "print(\"\\nF1 Score (Macro Average):\")\n",
        "print(f1_score(y_test, y_pred, average='macro'))\n",
        "\n",
        "plt.figure(figsize=(6, 4))\n",
        "sns.heatmap(confusion_matrix(y_test, y_pred), annot=True, fmt='d', cmap='YlGnBu')\n",
        "plt.title(\"Confusion Matrix (XGBoost Ensemble - Tuned)\")\n",
        "plt.xlabel(\"Predicted\")\n",
        "plt.ylabel(\"Actual\")\n",
        "plt.show()\n",
        "\n",
        "# Prediction function\n",
        "def predict_svi(input_dict):\n",
        "    pop = input_dict.get('TAR_POP', 0) or 1\n",
        "    rural = input_dict.get('RURAL', 0)\n",
        "    urban = input_dict.get('URBAN', 0)\n",
        "    coverage = input_dict.get('COVERAGE', 0)\n",
        "    sc = input_dict.get('P_SC', 0)\n",
        "    st = input_dict.get('P_ST', 0)\n",
        "    oc = input_dict.get('P_OC', 0)\n",
        "\n",
        "    sc_pct = sc / pop\n",
        "    st_pct = st / pop\n",
        "    oc_pct = oc / pop\n",
        "    rur_pct = rural / pop\n",
        "    urb_pct = urban / pop\n",
        "    rur_urb_ratio = rural / urban if urban else 0\n",
        "\n",
        "    x_caste = scaler_caste.transform([[pop, sc_pct, st_pct, oc_pct]])\n",
        "    x_ru = scaler_ru.transform([[pop, rur_urb_ratio, rur_pct, urb_pct, coverage]])\n",
        "\n",
        "    pred_caste = best_model_caste.predict(x_caste)[0]\n",
        "    pred_ru = best_model_ru.predict(x_ru)[0]\n",
        "\n",
        "    # Simple majority voting\n",
        "    final_pred = round((pred_caste + pred_ru) / 2)\n",
        "    return {3: 'A', 2: 'B', 1: 'C', 0: 'D'}[final_pred]\n",
        "\n",
        "# Example\n",
        "example_input = {\n",
        "    'TAR_POP': 1000000,\n",
        "    'RURAL': 600000,\n",
        "    'URBAN': 400000,\n",
        "    'COVERAGE': 65,\n",
        "    'P_SC': 200000,\n",
        "    'P_ST': 150000,\n",
        "    'P_OC': 300000\n",
        "}\n",
        "print(f\"Predicted SVI Category: {predict_svi(example_input)}\")"
      ],
      "metadata": {
        "colab": {
          "base_uri": "https://localhost:8080/",
          "height": 1000
        },
        "id": "cycnd5QSrVBW",
        "outputId": "bf028532-bda3-44a1-fd43-f97ef857e0fd"
      },
      "execution_count": 50,
      "outputs": [
        {
          "output_type": "stream",
          "name": "stdout",
          "text": [
            "Class Distribution in Pseudo_SVI_Rank:\n",
            "Pseudo_SVI_Rank\n",
            "3    10\n",
            "2     8\n",
            "1     8\n",
            "0     8\n",
            "Name: count, dtype: int64\n",
            "Fitting 3 folds for each of 729 candidates, totalling 2187 fits\n"
          ]
        },
        {
          "output_type": "stream",
          "name": "stderr",
          "text": [
            "/usr/local/lib/python3.11/dist-packages/xgboost/core.py:158: UserWarning: [15:18:25] WARNING: /workspace/src/learner.cc:740: \n",
            "Parameters: { \"scale_pos_weight\", \"use_label_encoder\" } are not used.\n",
            "\n",
            "  warnings.warn(smsg, UserWarning)\n"
          ]
        },
        {
          "output_type": "stream",
          "name": "stdout",
          "text": [
            "Fitting 3 folds for each of 729 candidates, totalling 2187 fits\n"
          ]
        },
        {
          "output_type": "stream",
          "name": "stderr",
          "text": [
            "/usr/local/lib/python3.11/dist-packages/xgboost/core.py:158: UserWarning: [15:20:16] WARNING: /workspace/src/learner.cc:740: \n",
            "Parameters: { \"scale_pos_weight\", \"use_label_encoder\" } are not used.\n",
            "\n",
            "  warnings.warn(smsg, UserWarning)\n",
            "/usr/local/lib/python3.11/dist-packages/sklearn/metrics/_classification.py:1565: UndefinedMetricWarning: Precision is ill-defined and being set to 0.0 in labels with no predicted samples. Use `zero_division` parameter to control this behavior.\n",
            "  _warn_prf(average, modifier, f\"{metric.capitalize()} is\", len(result))\n",
            "/usr/local/lib/python3.11/dist-packages/sklearn/metrics/_classification.py:1565: UndefinedMetricWarning: Precision is ill-defined and being set to 0.0 in labels with no predicted samples. Use `zero_division` parameter to control this behavior.\n",
            "  _warn_prf(average, modifier, f\"{metric.capitalize()} is\", len(result))\n",
            "/usr/local/lib/python3.11/dist-packages/sklearn/metrics/_classification.py:1565: UndefinedMetricWarning: Precision is ill-defined and being set to 0.0 in labels with no predicted samples. Use `zero_division` parameter to control this behavior.\n",
            "  _warn_prf(average, modifier, f\"{metric.capitalize()} is\", len(result))\n"
          ]
        },
        {
          "output_type": "stream",
          "name": "stdout",
          "text": [
            "\n",
            "Classification Report:\n",
            "              precision    recall  f1-score   support\n",
            "\n",
            "           0       1.00      0.50      0.67         2\n",
            "           1       0.50      0.50      0.50         2\n",
            "           2       0.17      0.50      0.25         2\n",
            "           3       0.00      0.00      0.00         3\n",
            "\n",
            "    accuracy                           0.33         9\n",
            "   macro avg       0.42      0.38      0.35         9\n",
            "weighted avg       0.37      0.33      0.31         9\n",
            "\n",
            "\n",
            "F1 Score (Macro Average):\n",
            "0.35416666666666663\n"
          ]
        },
        {
          "output_type": "display_data",
          "data": {
            "text/plain": [
              "<Figure size 600x400 with 2 Axes>"
            ],
            "image/png": "[encoded data removed]"
          },
          "metadata": {}
        },
        {
          "output_type": "stream",
          "name": "stdout",
          "text": [
            "Predicted SVI Category: C\n"
          ]
        },
        {
          "output_type": "stream",
          "name": "stderr",
          "text": [
            "/usr/local/lib/python3.11/dist-packages/sklearn/utils/validation.py:2739: UserWarning: X does not have valid feature names, but StandardScaler was fitted with feature names\n",
            "  warnings.warn(\n",
            "/usr/local/lib/python3.11/dist-packages/sklearn/utils/validation.py:2739: UserWarning: X does not have valid feature names, but StandardScaler was fitted with feature names\n",
            "  warnings.warn(\n"
          ]
        }
      ]
    }
  ]
}